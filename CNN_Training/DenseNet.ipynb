{
 "cells": [
  {
   "cell_type": "code",
   "execution_count": 1,
   "id": "initial_id",
   "metadata": {
    "ExecuteTime": {
     "end_time": "2024-11-04T09:44:48.415751Z",
     "start_time": "2024-11-04T09:44:44.280729Z"
    }
   },
   "outputs": [],
   "source": [
    "from utils import *\n",
    "device = 'cuda:0'\n",
    "model_name = 'DenseNet'\n",
    "output_file = f'model_saves/{model_name}.txt'\n",
    "sys.stdout = open(output_file, \"w\")"
   ]
  },
  {
   "cell_type": "code",
   "execution_count": 2,
   "id": "f3b3d9428060f7d4",
   "metadata": {},
   "outputs": [
    {
     "data": {
      "application/vnd.jupyter.widget-view+json": {
       "model_id": "b07c38f97b464b838756ad51329fbc31",
       "version_major": 2,
       "version_minor": 0
      },
      "text/plain": [
       "  0%|          | 0/30 [00:00<?, ?it/s]"
      ]
     },
     "metadata": {},
     "output_type": "display_data"
    }
   ],
   "source": [
    "BATCH_SIZE = 128\n",
    "NUM_EPOCHS = 30\n",
    "\n",
    "train_dataloader, test_dataloader = dataloader(pin_memory=True, num_workers=16)\n",
    "model = models.densenet121(pretrained=True)\n",
    "model.classifier = nn.Sequential(\n",
    "    nn.Linear(in_features=1024, out_features=12, bias=True)\n",
    ")\n",
    "\n",
    "for parameter in model.features.parameters():\n",
    "    parameter.requires_grad = False\n",
    "\n",
    "model = model.to(device)\n",
    "\n",
    "optimizer = torch.optim.SGD(model.parameters(), lr=0.01, momentum=0.9)\n",
    "scheduler = torch.optim.lr_scheduler.StepLR(optimizer, step_size=5, gamma=0.5)\n",
    "loss_fn = torch.nn.CrossEntropyLoss()\n",
    "accuracy_fn = torchmetrics.classification.Accuracy(num_classes=12).to(device)\n",
    "\n",
    "start_time = timer()\n",
    "\n",
    "model_results = train(\n",
    "    device,\n",
    "    model,\n",
    "    train_dataloader,\n",
    "    test_dataloader,\n",
    "    optimizer,\n",
    "    loss_fn,\n",
    "    accuracy_fn,\n",
    "    NUM_EPOCHS,\n",
    "    model_name,\n",
    "    scheduler)\n",
    "\n",
    "end_time = timer()\n",
    "\n",
    "print(f'Total training time: {end_time - start_time:.3f} seconds')"
   ]
  },
  {
   "cell_type": "code",
   "execution_count": 3,
   "id": "2166eaef1582e0c1",
   "metadata": {},
   "outputs": [],
   "source": [
    "with open(f'model_saves/{model_name}.pkl', 'wb') as f:\n",
    "    pickle.dump(model_results, f)"
   ]
  },
  {
   "cell_type": "code",
   "execution_count": null,
   "id": "74547bc3",
   "metadata": {},
   "outputs": [],
   "source": []
  }
 ],
 "metadata": {
  "kernelspec": {
   "display_name": "Python 3 (ipykernel)",
   "language": "python",
   "name": "python3"
  },
  "language_info": {
   "codemirror_mode": {
    "name": "ipython",
    "version": 3
   },
   "file_extension": ".py",
   "mimetype": "text/x-python",
   "name": "python",
   "nbconvert_exporter": "python",
   "pygments_lexer": "ipython3",
   "version": "3.7.0"
  }
 },
 "nbformat": 4,
 "nbformat_minor": 5
}

{
 "cells": [
  {
   "metadata": {
    "ExecuteTime": {
     "end_time": "2024-10-15T15:38:08.831894Z",
     "start_time": "2024-10-15T15:38:08.319996Z"
    }
   },
   "cell_type": "code",
   "source": [
    "import json\n",
    "import os\n",
    "import numpy as np\n",
    "import random\n",
    "from PIL import Image\n",
    "from tqdm.auto import tqdm\n",
    "\n",
    "def generate_fcgr_image(sequence, output_path, k):\n",
    "    image = np.zeros((2**k, 2**k), dtype=np.float32)\n",
    "\n",
    "    for i in range(len(sequence) - (k-1)):\n",
    "        pos_x, pos_y, size = 0, 0, 2**k\n",
    "        for j in range((k-1), -1, -1):\n",
    "            base = sequence[i + j]\n",
    "            if base in 'AT': pos_x += size // 2\n",
    "            if base in 'TG': pos_y += size // 2\n",
    "            size //= 2\n",
    "        image[pos_x , pos_y ] += 1\n",
    "\n",
    "    if np.max(image) > 0:\n",
    "        image = (image / np.max(image) * 255).astype(np.uint8)\n",
    "\n",
    "    img = Image.fromarray(image)\n",
    "    img.save(output_path)\n",
    "\n",
    "\n",
    "def create_data(variant_names, sequences, train_len=800, test_len=200, k=8):\n",
    "    for variant in tqdm(variant_names):\n",
    "        full_sequence = sequences[variant]\n",
    "        sequence_length = len(full_sequence)\n",
    "\n",
    "        for i in range(train_len):\n",
    "            random_length = random.randint(2000, sequence_length)\n",
    "            start_idx = random.randint(0, sequence_length - random_length)\n",
    "            random_sequence = full_sequence[start_idx:start_idx + random_length]\n",
    "            output_path = os.path.join(train_folder, variant, f\"image_{i + 1}.jpg\")\n",
    "            generate_fcgr_image(random_sequence, output_path, k)\n",
    "    \n",
    "        for i in range(test_len):\n",
    "            random_length = random.randint(2000, sequence_length)\n",
    "            start_idx = random.randint(0, sequence_length - random_length)\n",
    "            random_sequence = full_sequence[start_idx:start_idx + random_length]\n",
    "            output_path = os.path.join(test_folder, variant, f\"image_{i + 1}.jpg\")\n",
    "            generate_fcgr_image(random_sequence, output_path, k)"
   ],
   "id": "cb2672bd90a04a99",
   "outputs": [],
   "execution_count": 1
  },
  {
   "metadata": {
    "ExecuteTime": {
     "end_time": "2024-10-15T16:45:35.974863Z",
     "start_time": "2024-10-15T15:38:09.300202Z"
    }
   },
   "cell_type": "code",
   "source": [
    "base_output_folder = \"data/virus\"\n",
    "train_folder = os.path.join(base_output_folder, \"train\")\n",
    "test_folder = os.path.join(base_output_folder, \"test\")\n",
    "\n",
    "with open('accession_ids.json', 'r') as json_file:\n",
    "    accession_id_dict = json.load(json_file)\n",
    "variant_names = list(accession_id_dict.keys())\n",
    "\n",
    "for folder in [train_folder, test_folder]:\n",
    "    os.makedirs(folder, exist_ok=True)\n",
    "    for variant in variant_names:\n",
    "        os.makedirs(os.path.join(folder, variant), exist_ok=True)\n",
    "        \n",
    "sequences = {}\n",
    "for variant in variant_names:\n",
    "    with open(f\"sequence_data/{variant}.txt\", \"r\") as file:\n",
    "        sequences[variant] = file.read().strip()\n",
    "        \n",
    "create_data(variant_names, sequences, train_len=9000, test_len=1000, k=8)"
   ],
   "id": "703549fead301581",
   "outputs": [
    {
     "data": {
      "text/plain": [
       "  0%|          | 0/12 [00:00<?, ?it/s]"
      ],
      "application/vnd.jupyter.widget-view+json": {
       "version_major": 2,
       "version_minor": 0,
       "model_id": "7be88c1d17064b0ba90c0358a88708e7"
      }
     },
     "metadata": {},
     "output_type": "display_data"
    }
   ],
   "execution_count": 2
  },
  {
   "metadata": {},
   "cell_type": "code",
   "source": "",
   "id": "a36ab7d7be916c26",
   "outputs": [],
   "execution_count": null
  }
 ],
 "metadata": {
  "kernelspec": {
   "display_name": "Python 3",
   "language": "python",
   "name": "python3"
  },
  "language_info": {
   "codemirror_mode": {
    "name": "ipython",
    "version": 2
   },
   "file_extension": ".py",
   "mimetype": "text/x-python",
   "name": "python",
   "nbconvert_exporter": "python",
   "pygments_lexer": "ipython2",
   "version": "2.7.6"
  }
 },
 "nbformat": 4,
 "nbformat_minor": 5
}

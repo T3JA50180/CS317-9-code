{
 "cells": [
  {
   "cell_type": "code",
   "id": "initial_id",
   "metadata": {
    "collapsed": true,
    "ExecuteTime": {
     "end_time": "2024-10-12T18:03:05.803472Z",
     "start_time": "2024-10-12T18:01:58.829134Z"
    }
   },
   "source": [
    "import json\n",
    "import os\n",
    "import warnings\n",
    "from Bio import Entrez, SeqIO\n",
    "from tqdm.auto import tqdm\n",
    "\n",
    "warnings.filterwarnings(\"ignore\")\n",
    "\n",
    "json_file = open('accession_ids.json', 'r')\n",
    "accession_id_dict = json.load(json_file)\n",
    "\n",
    "os.makedirs(\"sequence_data\", exist_ok=True)\n",
    "\n",
    "for variant_name, accession_ids in tqdm(accession_id_dict.items()):\n",
    "    if isinstance(accession_ids, str):\n",
    "        accession_ids = [accession_ids]\n",
    "\n",
    "    combined_sequence = \"\"\n",
    "\n",
    "    for accession_id in accession_ids:\n",
    "        handle = Entrez.efetch(db=\"nucleotide\", id=accession_id, rettype=\"fasta\", retmode=\"text\")\n",
    "        record = SeqIO.read(handle, \"fasta\")\n",
    "        handle.close()\n",
    "\n",
    "        clean_sequence = str(record.seq).replace(\"N\", \"\")\n",
    "        combined_sequence += clean_sequence\n",
    "    \n",
    "    output_file = open(f\"sequence_data/{variant_name}.txt\", \"w\")\n",
    "    output_file.write(combined_sequence)"
   ],
   "outputs": [
    {
     "data": {
      "text/plain": [
       "  0%|          | 0/12 [00:00<?, ?it/s]"
      ],
      "application/vnd.jupyter.widget-view+json": {
       "version_major": 2,
       "version_minor": 0,
       "model_id": "e092bbbd33654ce5be26cbc0a8226324"
      }
     },
     "metadata": {},
     "output_type": "display_data"
    }
   ],
   "execution_count": 1
  }
 ],
 "metadata": {
  "kernelspec": {
   "display_name": "Python 3",
   "language": "python",
   "name": "python3"
  },
  "language_info": {
   "codemirror_mode": {
    "name": "ipython",
    "version": 2
   },
   "file_extension": ".py",
   "mimetype": "text/x-python",
   "name": "python",
   "nbconvert_exporter": "python",
   "pygments_lexer": "ipython2",
   "version": "2.7.6"
  }
 },
 "nbformat": 4,
 "nbformat_minor": 5
}
